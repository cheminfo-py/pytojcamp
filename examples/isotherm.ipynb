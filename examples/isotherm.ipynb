{
 "cells": [
  {
   "cell_type": "code",
   "execution_count": 1,
   "metadata": {},
   "outputs": [],
   "source": [
    "import sys\n",
    "sys.path.append('../')"
   ]
  },
  {
   "cell_type": "code",
   "execution_count": 2,
   "metadata": {},
   "outputs": [],
   "source": [
    "from pytojcamp import from_dict\n",
    "import json"
   ]
  },
  {
   "cell_type": "code",
   "execution_count": 3,
   "metadata": {},
   "outputs": [],
   "source": [
    "with open('../tests/data/isotherm.json', 'r') as fh:\n",
    "    d = json.load(fh)"
   ]
  },
  {
   "cell_type": "code",
   "execution_count": 4,
   "metadata": {},
   "outputs": [
    {
     "data": {
      "text/plain": [
       "[0.001, 2.001, 4.001, 6.001, 8.001, 10.0]"
      ]
     },
     "execution_count": 4,
     "metadata": {},
     "output_type": "execute_result"
    }
   ],
   "source": [
    "d['isotherm']['pressure']"
   ]
  },
  {
   "cell_type": "code",
   "execution_count": 5,
   "metadata": {},
   "outputs": [
    {
     "data": {
      "text/plain": [
       "{'Density': 0.175332,\n",
       " 'Input_ha': 'DEF',\n",
       " 'POAV_A^3': 8379.82,\n",
       " 'isotherm': {'pressure': [0.001, 2.001, 4.001, 6.001, 8.001, 10.0],\n",
       "  'pressure_unit': 'bar',\n",
       "  'loading_absolute_dev': [0.00025566831323035,\n",
       "   0.014433723430904,\n",
       "   0.039043653433378,\n",
       "   0.037452903963134,\n",
       "   0.048911966667102,\n",
       "   0.060444081428841],\n",
       "  'loading_absolute_unit': 'mol/kg',\n",
       "  'loading_absolute_average': [0.0001754923683975,\n",
       "   0.4340427677237,\n",
       "   0.86650610413183,\n",
       "   1.2735982581373,\n",
       "   1.7054097657486,\n",
       "   2.1091174240778],\n",
       "  'enthalpy_of_adsorption_dev': [None,\n",
       "   0.047308930516409,\n",
       "   0.12657872506714,\n",
       "   0.10488590955576,\n",
       "   0.077848286814164,\n",
       "   0.16125728135159],\n",
       "  'enthalpy_of_adsorption_unit': 'kJ/mol',\n",
       "  'enthalpy_of_adsorption_average': [None,\n",
       "   -5.9252863069849,\n",
       "   -5.9072771112386,\n",
       "   -6.0146716220598,\n",
       "   -5.9350161715431,\n",
       "   -6.0147703142019]},\n",
       " 'PONAV_A^3': 0.0,\n",
       " 'is_porous': True,\n",
       " 'Input_block': [1.865, 100],\n",
       " 'Input_volpo': [1.865, 1.865, 100000],\n",
       " 'POAV_cm^3/g': 5.06053,\n",
       " 'temperature': 400,\n",
       " 'Density_unit': 'g/cm^3',\n",
       " 'PONAV_cm^3/g': 0.0,\n",
       " 'is_kh_enough': True,\n",
       " 'POAV_A^3_unit': 'A^3',\n",
       " 'PONAV_A^3_unit': 'A^3',\n",
       " 'Unitcell_volume': 9444.5,\n",
       " 'POAV_cm^3/g_unit': 'cm^3/g',\n",
       " 'temperature_unit': 'K',\n",
       " 'PONAV_cm^3/g_unit': 'cm^3/g',\n",
       " 'POAV_Volume_fraction': 0.88727,\n",
       " 'Unitcell_volume_unit': 'A^3',\n",
       " 'PONAV_Volume_fraction': 0.0,\n",
       " 'henry_coefficient_dev': 1.40933e-09,\n",
       " 'henry_coefficient_unit': 'mol/kg/Pa',\n",
       " 'Input_structure_filename': 'tmpji5iydjq.cif',\n",
       " 'POAV_Volume_fraction_unit': None,\n",
       " 'henry_coefficient_average': 2.15046e-06,\n",
       " 'Number_of_blocking_spheres': 0,\n",
       " 'PONAV_Volume_fraction_unit': None,\n",
       " 'adsorption_energy_widom_dev': 0.0024799902,\n",
       " 'Estimated_saturation_loading': 137.646416,\n",
       " 'adsorption_energy_widom_unit': 'kJ/mol',\n",
       " 'adsorption_energy_widom_average': -2.5418001158,\n",
       " 'Estimated_saturation_loading_unit': 'mol/kg',\n",
       " 'conversion_factor_molec_uc_to_mg_g': 16.0851290812,\n",
       " 'conversion_factor_molec_uc_to_mol_kg': 1.0028135337,\n",
       " 'conversion_factor_molec_uc_to_cm3stp_cm3': 3.9408409274}"
      ]
     },
     "execution_count": 5,
     "metadata": {},
     "output_type": "execute_result"
    }
   ],
   "source": [
    "d"
   ]
  },
  {
   "cell_type": "code",
   "execution_count": 8,
   "metadata": {},
   "outputs": [
    {
     "name": "stdout",
     "output_type": "stream",
     "text": [
      "##TITLE=\n",
      "##JCAMP-DX=6.00\n",
      "##DATA TYPE=Adsorption Isotherm\n",
      "##ORIGIN=\n",
      "##OWNER=\n",
      "##$adsorptive=N2\n",
      "##VAR_NAME=  x,p,y\n",
      "##SYMBOL=    x,p,y\n",
      "##VAR_TYPE=  INDEPENDENT,INDEPENDENT,DEPENDENT\n",
      "##VAR_DIM=   6,6,6\n",
      "##UNITS=     bar,bar,mol/kg\n",
      "##DATA TABLE= (xpy..xpy), PEAKS\n",
      "0.001\t0.001\t0.0001754923683975\n",
      "2.001\t2.001\t0.4340427677237\n",
      "4.001\t4.001\t0.86650610413183\n",
      "6.001\t6.001\t1.2735982581373\n",
      "8.001\t8.001\t1.7054097657486\n",
      "10.0\t10.0\t2.1091174240778\n",
      "##END\n"
     ]
    }
   ],
   "source": [
    "print(from_dict({\n",
    "    'x': {\n",
    "        \"data\": d['isotherm'][\"pressure\"], \n",
    "        \"unit\": d['isotherm'][\"pressure_unit\"],\n",
    "        \"type\": \"INDEPENDENT\"\n",
    "    }, \n",
    "    'p': {\n",
    "        \"data\": d['isotherm'][\"pressure\"], \n",
    "        \"unit\": d['isotherm'][\"pressure_unit\"],\n",
    "        \"type\": \"INDEPENDENT\"\n",
    "    }, \n",
    "    'y': {\n",
    "        \"data\": d['isotherm'][\"loading_absolute_average\"], \n",
    "        \"unit\": d['isotherm'][\"loading_absolute_unit\"],\n",
    "        \"type\": \"DEPENDENT\"\n",
    "    }\n",
    "}, data_type='Adsorption Isotherm', meta={'adsorptive': 'N2'}))"
   ]
  },
  {
   "cell_type": "code",
   "execution_count": null,
   "metadata": {},
   "outputs": [],
   "source": []
  }
 ],
 "metadata": {
  "kernelspec": {
   "display_name": "Python [conda env:pytojcamp] *",
   "language": "python",
   "name": "conda-env-pytojcamp-py"
  },
  "language_info": {
   "codemirror_mode": {
    "name": "ipython",
    "version": 3
   },
   "file_extension": ".py",
   "mimetype": "text/x-python",
   "name": "python",
   "nbconvert_exporter": "python",
   "pygments_lexer": "ipython3",
   "version": "3.7.8"
  }
 },
 "nbformat": 4,
 "nbformat_minor": 4
}
