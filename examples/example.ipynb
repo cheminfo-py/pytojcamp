{
 "cells": [
  {
   "cell_type": "code",
   "execution_count": 1,
   "metadata": {},
   "outputs": [],
   "source": [
    "from pytojcamp import from_xy"
   ]
  },
  {
   "cell_type": "code",
   "execution_count": 2,
   "metadata": {},
   "outputs": [],
   "source": [
    "x = [1,2,3,4]\n",
    "y = [3,4,5,6]"
   ]
  },
  {
   "cell_type": "code",
   "execution_count": 4,
   "metadata": {},
   "outputs": [],
   "source": [
    "jcamp_string = from_xy((x,y), meta={'hello': 'world', 'a': 'B'})"
   ]
  },
  {
   "cell_type": "code",
   "execution_count": 9,
   "metadata": {},
   "outputs": [
    {
     "name": "stdout",
     "output_type": "stream",
     "text": [
      "##TITLE=\n",
      "##JCAMP-DX=4.24\n",
      "##DATA TYPE=\n",
      "##ORIGIN=\n",
      "##OWNER=\n",
      "##XUNITS=\n",
      "##YUNITS=\n",
      "##FIRSTX=1\n",
      "##LASTX=4\n",
      "##FIRSTY=3\n",
      "##LASTY=6\n",
      "##NPOINTS=4\n",
      "##$hello=world\n",
      "##$a=B\n",
      "##PEAK TABLE=(XY..XY)\n",
      "1  3\n",
      "2  4\n",
      "3  5\n",
      "4  6\n",
      "##END\n"
     ]
    }
   ],
   "source": [
    "print(jcamp_string)"
   ]
  },
  {
   "cell_type": "code",
   "execution_count": null,
   "metadata": {},
   "outputs": [],
   "source": []
  }
 ],
 "metadata": {
  "kernelspec": {
   "display_name": "Python 3",
   "language": "python",
   "name": "python3"
  },
  "language_info": {
   "codemirror_mode": {
    "name": "ipython",
    "version": 3
   },
   "file_extension": ".py",
   "mimetype": "text/x-python",
   "name": "python",
   "nbconvert_exporter": "python",
   "pygments_lexer": "ipython3",
   "version": "3.7.8"
  }
 },
 "nbformat": 4,
 "nbformat_minor": 4
}
